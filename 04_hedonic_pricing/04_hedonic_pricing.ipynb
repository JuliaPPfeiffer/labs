{
  "cells": [
    {
      "cell_type": "markdown",
      "metadata": {
        "vscode": {
          "languageId": "bat"
        },
        "id": "rkGVkvNb0vTh"
      },
      "source": [
        "# Hedonic Pricing\n",
        "\n",
        "We often try to predict the price of an asset from its observable characteristics. This is generally called **hedonic pricing**: How do the unit's characteristics determine its market price?\n",
        "\n",
        "In the lab folder, there are three options: housing prices in pierce_county_house_sales.csv, car prices in cars_hw.csv, and airbnb rental prices in airbnb_hw.csv. If you know of another suitable dataset, please feel free to use that one.\n",
        "\n",
        "1. Clean the data and perform some EDA and visualization to get to know the data set.\n"
      ]
    },
    {
      "cell_type": "code",
      "source": [
        "from google.colab import drive\n",
        "drive.mount('/content/drive/')"
      ],
      "metadata": {
        "colab": {
          "base_uri": "https://localhost:8080/"
        },
        "id": "B-ufbsRx08PX",
        "outputId": "dbd7b0e5-81b4-407f-bae1-6651e0a09514"
      },
      "execution_count": 10,
      "outputs": [
        {
          "output_type": "stream",
          "name": "stdout",
          "text": [
            "Drive already mounted at /content/drive/; to attempt to forcibly remount, call drive.mount(\"/content/drive/\", force_remount=True).\n"
          ]
        }
      ]
    },
    {
      "cell_type": "code",
      "source": [
        "# load dataset\n",
        "import pandas as pd\n",
        "import numpy as np\n",
        "df=pd.read_csv(\"/content/drive/MyDrive/SEM 7/DS 3001/Assignments/knn/USA_cars_datasets.csv\")\n",
        "df.head()"
      ],
      "metadata": {
        "id": "NhP2ijIc1IcG"
      },
      "execution_count": null,
      "outputs": []
    },
    {
      "cell_type": "markdown",
      "source": [
        "2. Transform your variables --- particularly categorical ones --- for use in your regression analysis.\n"
      ],
      "metadata": {
        "id": "sRuu6pc40xrn"
      }
    },
    {
      "cell_type": "code",
      "source": [],
      "metadata": {
        "id": "Z0SSh0TR075P"
      },
      "execution_count": null,
      "outputs": []
    },
    {
      "cell_type": "markdown",
      "source": [
        "3. Implement an ~80/~20 train-test split. Put the test data aside."
      ],
      "metadata": {
        "id": "PT2j0lOF0zOz"
      }
    },
    {
      "cell_type": "markdown",
      "source": [
        "4. Build some simple linear models that include no transformations or interactions. Fit them, and determine their RMSE and $R^2$ on the both the training and test sets. Which of your models does the best?"
      ],
      "metadata": {
        "id": "fQJH0vzv00fR"
      }
    },
    {
      "cell_type": "markdown",
      "source": [
        "5. Include transformations and interactions, and build a more complex model that reflects your ideas about how the features of the asset determine its value. Determine its RMSE and $R^2$ on the training and test sets. How does the more complex model your build compare to the simpler ones?"
      ],
      "metadata": {
        "id": "r3uipzZD01oO"
      }
    },
    {
      "cell_type": "markdown",
      "source": [
        "6. Summarize your results from 1 to 5. Have you learned anything about overfitting and underfitting, or model selection?"
      ],
      "metadata": {
        "id": "qc53Lk0903CU"
      }
    },
    {
      "cell_type": "markdown",
      "source": [
        "7. If you have time, use the sklearn.linear_model.Lasso to regularize your model and select the most predictive features. Which does it select? What are the RMSE and $R^2$? We'll cover the Lasso later in detail in class."
      ],
      "metadata": {
        "id": "nhmbQLS-04Vc"
      }
    }
  ],
  "metadata": {
    "kernelspec": {
      "display_name": "base",
      "language": "python",
      "name": "python3"
    },
    "language_info": {
      "codemirror_mode": {
        "name": "ipython",
        "version": 3
      },
      "file_extension": ".py",
      "mimetype": "text/x-python",
      "name": "python",
      "nbconvert_exporter": "python",
      "pygments_lexer": "ipython3",
      "version": "3.12.2"
    },
    "colab": {
      "provenance": []
    }
  },
  "nbformat": 4,
  "nbformat_minor": 0
}